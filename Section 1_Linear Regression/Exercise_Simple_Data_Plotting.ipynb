{
  "nbformat": 4,
  "nbformat_minor": 0,
  "metadata": {
    "colab": {
      "provenance": []
    },
    "kernelspec": {
      "name": "python3",
      "display_name": "Python 3"
    },
    "language_info": {
      "name": "python"
    }
  },
  "cells": [
    {
      "cell_type": "code",
      "execution_count": null,
      "metadata": {
        "id": "uNqjs_bSW_5A"
      },
      "outputs": [],
      "source": [
        "# Import necessary libraries\n",
        "import pandas as pd\n",
        "import matplotlib.pyplot as plt\n",
        "%matplotlib inline"
      ]
    },
    {
      "cell_type": "code",
      "source": [
        "# \"Advertising.csv\" containts the data set used in this exercise\n",
        "data_filename = 'Advertising.csv'\n",
        "\n",
        "# Read the file \"Advertising.csv\" file using the pandas library\n",
        "df = pd.read_csv(data_filename)\n"
      ],
      "metadata": {
        "id": "MueINOqLXQu9"
      },
      "execution_count": null,
      "outputs": []
    },
    {
      "cell_type": "code",
      "source": [
        "# Get a quick look of the data\n",
        "df.head(10)"
      ],
      "metadata": {
        "id": "jT_81s-LXST7"
      },
      "execution_count": null,
      "outputs": []
    },
    {
      "cell_type": "code",
      "source": [
        "### edTest(test_pandas) ###\n",
        "# Create a new dataframe by selecting the first 7 rows of\n",
        "# the current dataframe\n",
        "df_new = df.head(7)"
      ],
      "metadata": {
        "id": "-ZY5a-CYXT4J"
      },
      "execution_count": null,
      "outputs": []
    },
    {
      "cell_type": "code",
      "source": [
        "# Print your new dataframe to see if you have selected 7 rows correctly\n",
        "print(df_new)"
      ],
      "metadata": {
        "id": "DU6xfUAGXWoa"
      },
      "execution_count": null,
      "outputs": []
    },
    {
      "cell_type": "code",
      "source": [
        "# Use a scatter plot for plotting a graph of TV vs Sales\n",
        "plt.scatter(df_new['TV'], df_new['Sales'])\n",
        "\n",
        "# Add axis labels for clarity (x : TV budget, y : Sales)\n",
        "plt.xlabel('TV budget')\n",
        "plt.ylabel('Sales')\n",
        "\n",
        "# Add plot title\n",
        "plt.title('TV vs Sales')"
      ],
      "metadata": {
        "id": "dfz0Qd5qXYZM"
      },
      "execution_count": null,
      "outputs": []
    },
    {
      "cell_type": "code",
      "source": [
        "#Your code here\n",
        "plt.scatter(df['TV'], df['Sales'])\n",
        "\n",
        "plt.xlabel('TV budget')\n",
        "plt.ylabel('Sales')\n",
        "\n",
        "plt.title('TV vs Sales')"
      ],
      "metadata": {
        "id": "h5bEvOisXal6"
      },
      "execution_count": null,
      "outputs": []
    }
  ]
}